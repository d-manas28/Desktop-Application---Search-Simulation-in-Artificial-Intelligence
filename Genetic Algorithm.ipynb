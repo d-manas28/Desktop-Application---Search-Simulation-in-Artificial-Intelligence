{
  "nbformat": 4,
  "nbformat_minor": 0,
  "metadata": {
    "colab": {
      "provenance": [],
      "collapsed_sections": []
    },
    "kernelspec": {
      "name": "python3",
      "display_name": "Python 3"
    },
    "language_info": {
      "name": "python"
    }
  },
  "cells": [
    {
      "cell_type": "markdown",
      "source": [
        "# Validating Reachability"
      ],
      "metadata": {
        "id": "RIuPLNDZLyYc"
      }
    },
    {
      "cell_type": "code",
      "source": [
        "def isSolvable(input_grid):\n",
        "  count_inversion = 0;\n",
        "  grid_length = 9;\n",
        "  if input_grid[-1] == 'B':\n",
        "    grid_length = 8;\n",
        "    for i in range(7):\n",
        "      for j in range(i+1,8):\n",
        "        if input_grid[i] == 'B' or input_grid[j] == 'B':\n",
        "          continue;\n",
        "        if (int(input_grid[i]) > int(input_grid[j])):\n",
        "          count_inversion = count_inversion+1;\n",
        "  return ((count_inversion%2) == 0);"
      ],
      "metadata": {
        "id": "3_pfhDLmIheD"
      },
      "execution_count": 1,
      "outputs": []
    },
    {
      "cell_type": "markdown",
      "source": [
        "# Genetic Algorithm"
      ],
      "metadata": {
        "id": "sIwJVNIaL_UG"
      }
    },
    {
      "cell_type": "markdown",
      "source": [
        "## Setting up Initial Population"
      ],
      "metadata": {
        "id": "HO0Be8_BL4QO"
      }
    },
    {
      "cell_type": "code",
      "source": [
        "import random\n",
        "from queue import PriorityQueue\n",
        "import time\n",
        "import ast"
      ],
      "metadata": {
        "id": "1NP2v6v_GaTa"
      },
      "execution_count": 2,
      "outputs": []
    },
    {
      "cell_type": "code",
      "source": [
        "def shuffle(test_list):\n",
        "  res = random.sample(test_list, len(test_list))\n",
        "\n",
        "  # Printing shuffled list\n",
        "  # print (res)\n",
        "  return res"
      ],
      "metadata": {
        "id": "CWAxsHykGRiQ"
      },
      "execution_count": 3,
      "outputs": []
    },
    {
      "cell_type": "markdown",
      "source": [
        "## Fitting Function"
      ],
      "metadata": {
        "id": "fGDK8f2PSbYm"
      }
    },
    {
      "cell_type": "code",
      "source": [
        "def find_fit1(temp_list):\n",
        "  sum = 0\n",
        "  pointer = 1\n",
        "  for i in temp_list:\n",
        "    if i == \"B\":\n",
        "      continue\n",
        "    if(i != str(pointer)):\n",
        "      sum+=1\n",
        "    pointer+=1\n",
        "  return [sum,temp_list]"
      ],
      "metadata": {
        "id": "Lqm5gViUM6NX"
      },
      "execution_count": 5,
      "outputs": []
    },
    {
      "cell_type": "code",
      "source": [
        "def get_initial_pop(start_state):\n",
        "  list_of_list = []\n",
        "  mylist = start_state\n",
        "  list_of_list = []\n",
        "  list_of_list.append(mylist)\n",
        "\n",
        "  while True:\n",
        "    temp = shuffle(mylist)\n",
        "    if(isSolvable(temp)):\n",
        "      list_of_list.append(temp)\n",
        "    if(len(list_of_list)>=10):\n",
        "      break;\n",
        "\n",
        "  # for each in list_of_list:\n",
        "  #   print(each)\n",
        "  # print(len(list_of_list))\n",
        "  pq = PriorityQueue()\n",
        "\n",
        "  for i in list_of_list:\n",
        "    fit_pairs = find_fit1(i)\n",
        "    # print(\"\\n\",fit_pairs)\n",
        "    pq.put(fit_pairs)\n",
        "  \n",
        "  init_pop = []\n",
        "  for i in pq.queue:\n",
        "    init_pop.append(i)\n",
        "\n",
        "  return init_pop"
      ],
      "metadata": {
        "id": "Vm5_gza97Ukq"
      },
      "execution_count": 11,
      "outputs": []
    },
    {
      "cell_type": "markdown",
      "source": [
        "## Crossover and mutation to get new population"
      ],
      "metadata": {
        "id": "wMHR8Xk-SgUz"
      }
    },
    {
      "cell_type": "code",
      "source": [
        "def do_crossover_mut(par1,par2):\n",
        "  child = ['-1','-1','-1','-1','-1','-1','-1','-1','-1']\n",
        "  temp_list = []\n",
        "  for i in range(1,9):\n",
        "    if(par1.index(str(i)) == i or par2.index(str(i)) == i):\n",
        "      child[i-1] = str(i)\n",
        "    else:\n",
        "      temp_list.append(str(i))\n",
        "  temp_list.append('B')  \n",
        "  for i in temp_list:\n",
        "    p1 = par1.index(i)\n",
        "    p2 = par2.index(i)\n",
        "    if(child[p1] == '-1'):\n",
        "      child[p1] = i\n",
        "    elif(child[p2] == '-1'):\n",
        "      child[p2] = i\n",
        "    else:\n",
        "      child[child.index('-1')] = i\n",
        "\n",
        "  return child"
      ],
      "metadata": {
        "id": "JZwc6NNYRbdH"
      },
      "execution_count": 12,
      "outputs": []
    },
    {
      "cell_type": "code",
      "source": [
        "start_state = ['5','B','8','4','2','1','7','3','6']\n",
        "target_state = [0,['1','2','3','4','5','6','7','8','B']]"
      ],
      "metadata": {
        "id": "sQVJ2hc7oFYR"
      },
      "execution_count": 14,
      "outputs": []
    },
    {
      "cell_type": "code",
      "source": [
        "def genetic_algo(start_state,target_state,runs):\n",
        "  start_time = time.time()\n",
        "  init_pop = get_initial_pop(start_state)\n",
        "  curr_pop = init_pop\n",
        "\n",
        "  while(runs>0):\n",
        "    for each in curr_pop:\n",
        "      if(each == target_state):\n",
        "        print(\"\\n\\nTarget Found in, \",time.time()-start_time,\" And in \",11-runs,\"Steps\")\n",
        "        return \"Success\"\n",
        "    \n",
        "    s = set()\n",
        "    new_pq = PriorityQueue()\n",
        "    for i in range(0,9):\n",
        "      for j in range(1,10):\n",
        "        child = do_crossover_mut(curr_pop[i][1],curr_pop[j][1])\n",
        "        if(isSolvable(child)):\n",
        "          s.add(str(child))      \n",
        "\n",
        "    for i in s:\n",
        "      child = ast.literal_eval(i)\n",
        "      fit_pair = find_fit1(child)\n",
        "      new_pq.put(fit_pair)\n",
        "\n",
        "\n",
        "    new_gen = []\n",
        "    ctr = 0\n",
        "    while(ctr!=10):\n",
        "      new_gen.append(new_pq.get())\n",
        "      ctr+=1\n",
        "    \n",
        "    curr_pop = new_gen\n",
        "\n",
        "    runs=runs-1\n",
        "\n",
        "  return \"Failure\"  "
      ],
      "metadata": {
        "id": "qRaHBxhU6qOL"
      },
      "execution_count": 15,
      "outputs": []
    },
    {
      "cell_type": "code",
      "source": [
        "def print_grid(current_grid):\n",
        "  ctr = 1\n",
        "  for i in current_grid:\n",
        "    print(i,end = '   ')\n",
        "    ctr = ctr+1\n",
        "    if(ctr == 4 or ctr == 7):\n",
        "      print('\\n')"
      ],
      "metadata": {
        "id": "cfFmSDIPD4r8"
      },
      "execution_count": 16,
      "outputs": []
    },
    {
      "cell_type": "code",
      "source": [
        "print(\"\\n\\nStart State\\n\")\n",
        "print_grid(start_state)\n",
        "print(\"\\n\\nTarget State\\n\")\n",
        "print_grid(target_state[1])\n",
        "\n",
        "status = genetic_algo(start_state,target_state,10)\n",
        "print(\"\\n\\nAlgorithm Status:\", status)"
      ],
      "metadata": {
        "colab": {
          "base_uri": "https://localhost:8080/"
        },
        "id": "cNUoWcwN9GY-",
        "outputId": "e475daab-35d0-4e72-b4a1-9b04a753fa0f"
      },
      "execution_count": 17,
      "outputs": [
        {
          "output_type": "stream",
          "name": "stdout",
          "text": [
            "\n",
            "\n",
            "Start State\n",
            "\n",
            "5   B   8   \n",
            "\n",
            "4   2   1   \n",
            "\n",
            "7   3   6   \n",
            "\n",
            "Target State\n",
            "\n",
            "1   2   3   \n",
            "\n",
            "4   5   6   \n",
            "\n",
            "7   8   B   \n",
            "\n",
            "Target Found in,  0.0040395259857177734  And in  2 Steps\n",
            "\n",
            "\n",
            "Algorithm Status: Success\n"
          ]
        }
      ]
    },
    {
      "cell_type": "markdown",
      "source": [
        "# Simulated Annealing"
      ],
      "metadata": {
        "id": "zbbwK5FvBhI1"
      }
    },
    {
      "cell_type": "code",
      "execution_count": 18,
      "metadata": {
        "id": "0808e104"
      },
      "outputs": [],
      "source": [
        "from random import *\n",
        "from math import *\n",
        "from time import time"
      ]
    },
    {
      "cell_type": "code",
      "source": [
        "# Reaches in a single step\n",
        "# start_state = [1,2,3,4,5,6,7,0,8]\n",
        "\n",
        "# Does not necessarily reach\n",
        "# start_state = [4,5,1,2,3,8,0,6,7]\n",
        "start_state = [5,0,8,4,2,1,7,3,6]\n",
        "\n",
        "target_state = [1,2,3,4,5,6,7,8,0]\n",
        "heuristics = {0:\"Misplaced Tiles\",1:\"Manhattan Distance\"}\n"
      ],
      "metadata": {
        "id": "2M6wpY3FKaN2"
      },
      "execution_count": 19,
      "outputs": []
    },
    {
      "cell_type": "code",
      "execution_count": 20,
      "metadata": {
        "id": "618723ce"
      },
      "outputs": [],
      "source": [
        "\n",
        "def get_row(pos):\n",
        "        return (int(pos/3))\n",
        "\n",
        "def get_col(pos):\n",
        "        return int(pos%3)\n",
        "\n",
        "def get_index(row, col):\n",
        "        return row*3+col\n",
        "\n",
        "    \n",
        "class Node:\n",
        "\n",
        "    goal_state = None\n",
        "    start_state = None\n",
        "    hn = None                              \n",
        "        \n",
        "    def __init__(self,state,parent,action):     \n",
        "        \n",
        "        self.state = state\n",
        "        self.parent = parent\n",
        "        self.action = action\n",
        "\n",
        "   \n",
        "    def all_pos_moves(self):\n",
        "        blank_pos = self.state.index(0) \n",
        "        r = get_row(blank_pos)\n",
        "        c = get_col(blank_pos)\n",
        "        moves = [\"U\", \"D\", \"L\", \"R\"]\n",
        "        if r == 0:\n",
        "            moves.remove(\"U\")\n",
        "        if r == 2:\n",
        "            moves.remove(\"D\")\n",
        "        if c == 0:\n",
        "            moves.remove(\"L\")\n",
        "        if c == 2:\n",
        "            moves.remove(\"R\")\n",
        "        return moves\n",
        "\n",
        "    def do_move(self,move):\n",
        "        new_state = self.state.copy()\n",
        "        blank_pos = new_state.index(0)\n",
        "        r = get_row(blank_pos)\n",
        "        c = get_col(blank_pos)\n",
        "        if move == \"U\":\n",
        "            move_index = get_index(r-1, c)\n",
        "        if move == \"D\":\n",
        "            move_index = get_index(r+1, c)\n",
        "        if move == \"R\":\n",
        "            move_index = get_index(r, c+1)\n",
        "        if move == \"L\":\n",
        "            move_index = get_index(r, c-1)\n",
        "        new_state[blank_pos],new_state[move_index] = new_state[move_index],new_state[blank_pos]\n",
        "        return Node(new_state,self,move)\n",
        "\n",
        "    def cal_e(self):\n",
        "        \n",
        "        md = 0\n",
        "        mt = 0\n",
        "        \n",
        "        for i in range(9):\n",
        "            \n",
        "            if self.state[i] == 0:\n",
        "                continue\n",
        "            else:\n",
        "                md += abs(self.state[i] - self.goal_state[i])\n",
        "            \n",
        "            if(self.state[i] != self.goal_state[i]): mt += 1\n",
        "                \n",
        "        \n",
        "        if self.hn == 1:\n",
        "            return md\n",
        "        elif self.hn == 2:\n",
        "            return mt\n",
        "        else:\n",
        "            return (md*mt)\n",
        "\n",
        "        \n",
        "    def Is_solved(self):\n",
        "        if(self.state == self.goal_state):\n",
        "            return True\n",
        "        else:\n",
        "            return False\n",
        "    \n",
        "    def trace_path(self):                    \n",
        "        \n",
        "        solution_list = []\n",
        "        solution_list.append(self.action)            \n",
        "        path = self\n",
        "        while path.parent != None:              \n",
        "            path = path.parent         \n",
        "            solution_list.append(path.action)\n",
        "        solution_list = solution_list[:-1]\n",
        "        solution_list.reverse()\n",
        "        return solution_list\n",
        "    \n"
      ]
    },
    {
      "cell_type": "code",
      "source": [
        "def is_grid_valid(input_grid):\n",
        "  count_inversion = 0;\n",
        "  grid_length = 9;\n",
        "  if input_grid[-1] == 0:\n",
        "    grid_length = 8;\n",
        "    for i in range(7):\n",
        "      for j in range(i+1,8):\n",
        "        if input_grid[i] == 0 or input_grid[j] == 0:\n",
        "          continue;\n",
        "        if (int(input_grid[i]) > int(input_grid[j])):\n",
        "          count_inversion = count_inversion+1;\n",
        "  return ((count_inversion%2) == 0);  "
      ],
      "metadata": {
        "id": "7u43165UQfoX"
      },
      "execution_count": 21,
      "outputs": []
    },
    {
      "cell_type": "code",
      "source": [
        "def print_grid(current_grid):\n",
        "  ctr = 1\n",
        "  for i in current_grid:\n",
        "    print(i,end = '   ')\n",
        "    ctr = ctr+1\n",
        "    if(ctr == 4 or ctr == 7):\n",
        "      print('\\n')"
      ],
      "metadata": {
        "id": "4on-pmYHQfoX"
      },
      "execution_count": 22,
      "outputs": []
    },
    {
      "cell_type": "code",
      "execution_count": 23,
      "metadata": {
        "id": "c4072ce6"
      },
      "outputs": [],
      "source": [
        "def sim_ann(initial_state,goal_state, temp, hn):\n",
        "\n",
        "    Node.start_state = initial_state\n",
        "    Node.goal_state = goal_state\n",
        "    Node.hn = hn\n",
        "    temperature = temp\n",
        "    state = Node(initial_state,None,None)   \n",
        "    \n",
        "    oldE = state.cal_e()                     \n",
        "    n_explored = 0\n",
        "    flag =False                              \n",
        "\n",
        "    while temperature > 0:\n",
        "        moves = state.all_pos_moves()             \n",
        "        accepted = False\n",
        "        \n",
        "        while not accepted:\n",
        "\n",
        "            m = choice(moves)              \n",
        "            new_state = state.do_move(m)   \n",
        "            n_explored+=1                  \n",
        "            newE = new_state.cal_e()      \n",
        "            \n",
        "            deltaE = newE - oldE           \n",
        "            if deltaE <= 0:\n",
        "                accepted = True\n",
        "                state = new_state          \n",
        "            else:\n",
        "                boltz = exp(-float(deltaE)/temperature)\n",
        "                r = random()                          \n",
        "                if r <= boltz:                         \n",
        "                    accepted = True\n",
        "                    state = new_state\n",
        "        \n",
        "        oldE = newE                         \n",
        "        temperature = cool(temperature)    \n",
        "        \n",
        "        if state.Is_solved():                  \n",
        "            flag = True\n",
        "            break;\n",
        "    \n",
        "    optimal_path = state.trace_path()           \n",
        "    return(optimal_path,n_explored,flag)"
      ]
    },
    {
      "cell_type": "code",
      "execution_count": 24,
      "metadata": {
        "id": "f2583042"
      },
      "outputs": [],
      "source": [
        "h_1 = 'Misplaced Tiles'\n",
        "h_2 = 'Manhattan Distance'\n",
        "h_3 = \"h3 = h1 * h2\"\n",
        "heuristics[h_3] = 3"
      ]
    },
    {
      "cell_type": "code",
      "execution_count": 25,
      "metadata": {
        "id": "eedcea6c"
      },
      "outputs": [],
      "source": [
        "temp = 100\n",
        "\n",
        "cool_f = 'T = T-1'\n",
        "def cool(T):\n",
        "    return (T-1)"
      ]
    },
    {
      "cell_type": "code",
      "execution_count": null,
      "metadata": {
        "colab": {
          "base_uri": "https://localhost:8080/"
        },
        "id": "7285beda",
        "outputId": "5eec3043-a353-48de-fa71-fa626b64eac9"
      },
      "outputs": [
        {
          "output_type": "stream",
          "name": "stdout",
          "text": [
            "Start State\n",
            "5   0   8   \n",
            "\n",
            "4   2   1   \n",
            "\n",
            "7   3   6   \n",
            "Goal State\n",
            "1   2   3   \n",
            "\n",
            "4   5   6   \n",
            "\n",
            "7   8   0   \n",
            "Grid is Solvable :)\n",
            "\n",
            "Heuristics chosen: Misplaced Tiles \n",
            "Temperature chosen: 100 \n",
            "Cooling function: T = T-1 \n",
            "\n",
            "Puzzle cant be solved\n",
            "\n",
            "Total no. of states explored:  146\n",
            "\n",
            "Time taken:  0.0016674995422363281\n",
            "\n",
            "\n",
            "\n",
            "\n",
            "Heuristics chosen: Manhattan Distance \n",
            "Temperature chosen: 100 \n",
            "Cooling function: T = T-1 \n",
            "\n"
          ]
        }
      ],
      "source": [
        "\n",
        "print(\"Start State\")\n",
        "print_grid(start_state)\n",
        "print(\"\\nGoal State\")\n",
        "print_grid(target_state)\n",
        "\n",
        "\n",
        "if(is_grid_valid(start_state)):\n",
        "  print(\"\\nGrid is Solvable :)\")\n",
        "else:\n",
        "  print(\"\\nGrid is Unsovlable :(\")\n",
        "\n",
        "for hi in heuristics:\n",
        "    print(\"\\nHeuristics chosen:\",heuristics[hi],\"\\nTemperature chosen:\",temp,\"\\nCooling function:\",cool_f,\"\\n\")\n",
        "    \n",
        "    start_epoch = time()\n",
        "    output = sim_ann(start_state, target_state, temp, heuristics[hi]) \n",
        "    exe_time = time() - start_epoch\n",
        "\n",
        "    optimal_path = output[0]\n",
        "    n_state = output[1]\n",
        "    flag = output[2]\n",
        "\n",
        "    if flag:\n",
        "        print(\"Puzzle solved successfully\\n\")\n",
        "        print('Optimal path:',optimal_path)\n",
        "\n",
        "    else:\n",
        "        print(\"Puzzle cant be solved\\n\")\n",
        "\n",
        "    print('Total no. of states explored: ',n_state)\n",
        "    print('\\nTime taken: ', exe_time)\n",
        "    print(\"\\n\\n\")"
      ]
    },
    {
      "cell_type": "code",
      "source": [],
      "metadata": {
        "id": "SO466pL9DjPd"
      },
      "execution_count": null,
      "outputs": []
    }
  ]
}